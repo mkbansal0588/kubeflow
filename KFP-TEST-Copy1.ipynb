{
 "cells": [
  {
   "cell_type": "code",
   "execution_count": 22,
   "metadata": {
    "ExecuteTime": {
     "end_time": "2020-12-13T22:11:34.152392Z",
     "start_time": "2020-12-13T22:11:34.149861Z"
    }
   },
   "outputs": [],
   "source": [
    "from helper_components import hypertune\n",
    "from helper_components import preprocessingstep\n",
    "from helper_components import model_training\n",
    "from helper_components import prettyprintmatrix"
   ]
  },
  {
   "cell_type": "code",
   "execution_count": 1,
   "metadata": {
    "ExecuteTime": {
     "end_time": "2020-12-18T21:12:21.961196Z",
     "start_time": "2020-12-18T21:11:51.659502Z"
    }
   },
   "outputs": [],
   "source": [
    "import kfp"
   ]
  },
  {
   "cell_type": "code",
   "execution_count": 112,
   "metadata": {
    "ExecuteTime": {
     "end_time": "2020-12-07T21:40:02.398548Z",
     "start_time": "2020-12-07T21:40:02.395369Z"
    }
   },
   "outputs": [],
   "source": []
  },
  {
   "cell_type": "code",
   "execution_count": 114,
   "metadata": {
    "ExecuteTime": {
     "end_time": "2020-12-07T21:44:04.155228Z",
     "start_time": "2020-12-07T21:44:04.148445Z"
    }
   },
   "outputs": [],
   "source": []
  },
  {
   "cell_type": "code",
   "execution_count": 81,
   "metadata": {
    "ExecuteTime": {
     "end_time": "2020-12-07T20:29:56.859110Z",
     "start_time": "2020-12-07T20:29:56.856336Z"
    }
   },
   "outputs": [],
   "source": []
  },
  {
   "cell_type": "code",
   "execution_count": 23,
   "metadata": {
    "ExecuteTime": {
     "end_time": "2020-12-13T22:11:38.681380Z",
     "start_time": "2020-12-13T22:11:37.140659Z"
    }
   },
   "outputs": [],
   "source": [
    "import os\n",
    "\n",
    "#from helper_components import evaluate_model\n",
    "#from helper_components import retrieve_best_run\n",
    "from jinja2 import Template\n",
    "import kfp\n",
    "from kfp.components import func_to_container_op\n",
    "from kfp.dsl.types import Dict\n",
    "from kfp.dsl.types import GCPProjectID\n",
    "from kfp.dsl.types import GCPRegion\n",
    "from kfp.dsl.types import GCSPath\n",
    "from kfp.dsl.types import String\n",
    "from kfp.gcp import use_gcp_secret\n",
    "\n",
    "    \n",
    "from typing import NamedTuple\n",
    "import pandas as pd\n",
    "#def preprocessingstep(train_file, test_file) -> NamedTuple('Outputs', [('data_train', pd.DataFrame), ('data_test', pd.DataFrame), ('target_train', pd.DataFrame), ('target_test', pd.DataFrame)]):\n",
    "\n",
    "#def preprocessingstep(bucket_name, train_file, test_file) -> NamedTuple('Outputs', [('resultant_file', str)]): \n",
    "\n",
    "    \n",
    "\n",
    "\n",
    "\n",
    "    \n",
    "from kfp.components import func_to_container_op\n",
    "BASE_IMAGE=\"docker.io/mkbansal0588/kubeflow\"\n",
    "preprocessingstep_op = func_to_container_op(preprocessingstep, base_image=BASE_IMAGE)\n",
    "model_training_op = func_to_container_op(model_training, base_image=BASE_IMAGE)\n",
    "hypertune_op = func_to_container_op(hypertune, base_image=BASE_IMAGE)\n",
    "prettyprint_op = func_to_container_op(prettyprintmatrix, base_image=BASE_IMAGE)\n",
    "    \n",
    "@kfp.dsl.pipeline(\n",
    "    name='Housing Pricing preidiction',\n",
    "    description='The pipeline for training and deploying the house price prediction algorithm'\n",
    ")\n",
    "def Pipelinetest():\n",
    "    bucket_name = 'mohittest0432'\n",
    "    train_file = \"train.csv\"\n",
    "    test_file = \"test.csv\"\n",
    "    \n",
    "    preprocessingstepxyz = preprocessingstep_op(bucket_name, train_file, test_file)\n",
    "    \n",
    "    step1_processed_file = preprocessingstepxyz.outputs['Output']\n",
    "    \n",
    "    params: dict = {\n",
    "        # Parameters that we are going to tune.\n",
    "        'max_depth':6,\n",
    "        'min_child_weight': 1,\n",
    "        'eta':.3,\n",
    "        'subsample': 1,\n",
    "        'colsample_bytree': 1,\n",
    "        # Other parameters\n",
    "        'objective':'reg:squarederror',\n",
    "    }\n",
    "    \n",
    "    modeltrainingxyx = model_training_op(bucket_name, step1_processed_file, params)\n",
    "    \n",
    "    pretuned_metric = modeltrainingxyx.outputs['Output']\n",
    "    \n",
    "    hypertunexyz = hypertune_op(bucket_name, step1_processed_file, params)\n",
    "    \n",
    "    hypertuned_params = hypertunexyz.outputs['Output']\n",
    "    \n",
    "    fineTunedmodeltrainingxyz = model_training_op(bucket_name, step1_processed_file, hypertuned_params)\n",
    "    \n",
    "    posttuned_metric = fineTunedmodeltrainingxyz.outputs['Output']\n",
    "    \n",
    "    prettyprintmatrixxyz = prettyprint_op(pretuned_metric, posttuned_metric)\n",
    "    \n",
    "    \n",
    "    \n",
    "    "
   ]
  },
  {
   "cell_type": "code",
   "execution_count": null,
   "metadata": {
    "ExecuteTime": {
     "end_time": "2020-12-11T19:44:09.141792Z",
     "start_time": "2020-12-11T19:44:06.444533Z"
    }
   },
   "outputs": [],
   "source": []
  },
  {
   "cell_type": "code",
   "execution_count": 72,
   "metadata": {
    "ExecuteTime": {
     "end_time": "2020-12-07T05:35:36.619923Z",
     "start_time": "2020-12-07T05:35:36.618014Z"
    }
   },
   "outputs": [],
   "source": [
    "#bigquery_query_op = component_store.load_component('bigquery/query')"
   ]
  },
  {
   "cell_type": "code",
   "execution_count": null,
   "metadata": {
    "ExecuteTime": {
     "end_time": "2020-12-11T19:54:15.034156Z",
     "start_time": "2020-12-11T19:54:14.855360Z"
    }
   },
   "outputs": [],
   "source": []
  },
  {
   "cell_type": "code",
   "execution_count": null,
   "metadata": {
    "ExecuteTime": {
     "end_time": "2020-12-11T20:42:36.942664Z",
     "start_time": "2020-12-11T20:42:36.895972Z"
    }
   },
   "outputs": [],
   "source": []
  },
  {
   "cell_type": "code",
   "execution_count": 1,
   "metadata": {
    "ExecuteTime": {
     "end_time": "2020-12-11T20:42:10.124353Z",
     "start_time": "2020-12-11T20:42:08.030370Z"
    }
   },
   "outputs": [],
   "source": []
  },
  {
   "cell_type": "code",
   "execution_count": 2,
   "metadata": {
    "ExecuteTime": {
     "end_time": "2020-12-18T21:22:26.082326Z",
     "start_time": "2020-12-18T21:22:22.041469Z"
    }
   },
   "outputs": [
    {
     "name": "stdout",
     "output_type": "stream",
     "text": [
      "[NbConvertApp] Converting notebook /Users/mohit.k.bansal/kubeflow/pipeline/MohitTest/KFP-TEST-Copy1.ipynb to script\n",
      "[NbConvertApp] Writing 3422 bytes to /Users/mohit.k.bansal/kubeflow/pipeline/MohitTest/KFP-TEST-Copy1.py\n"
     ]
    }
   ],
   "source": [
    "!jupyter nbconvert --to script /Users/mohit.k.bansal/kubeflow/pipeline/MohitTest/KFP-TEST-Copy1.ipynb"
   ]
  },
  {
   "cell_type": "code",
   "execution_count": 3,
   "metadata": {
    "ExecuteTime": {
     "end_time": "2020-12-18T21:22:33.746571Z",
     "start_time": "2020-12-18T21:22:27.604425Z"
    }
   },
   "outputs": [],
   "source": [
    "!dsl-compile --py /Users/mohit.k.bansal/kubeflow/pipeline/MohitTest/KFP-TEST-Copy1.py --output /Users/mohit.k.bansal/kubeflow/pipeline/MohitTest/KFP-TEST-Copy1.yaml"
   ]
  },
  {
   "cell_type": "code",
   "execution_count": null,
   "metadata": {
    "ExecuteTime": {
     "end_time": "2020-12-11T21:46:27.228237Z",
     "start_time": "2020-12-11T21:46:27.226021Z"
    }
   },
   "outputs": [],
   "source": []
  },
  {
   "cell_type": "code",
   "execution_count": 2,
   "metadata": {
    "ExecuteTime": {
     "end_time": "2020-12-11T21:46:30.006211Z",
     "start_time": "2020-12-11T21:46:28.615844Z"
    }
   },
   "outputs": [],
   "source": []
  },
  {
   "cell_type": "code",
   "execution_count": null,
   "metadata": {
    "ExecuteTime": {
     "end_time": "2020-12-11T21:47:40.130480Z",
     "start_time": "2020-12-11T21:47:40.105574Z"
    }
   },
   "outputs": [],
   "source": []
  },
  {
   "cell_type": "code",
   "execution_count": null,
   "metadata": {
    "ExecuteTime": {
     "end_time": "2020-12-11T21:57:19.868328Z",
     "start_time": "2020-12-11T21:57:19.848733Z"
    }
   },
   "outputs": [],
   "source": []
  },
  {
   "cell_type": "code",
   "execution_count": null,
   "metadata": {
    "ExecuteTime": {
     "end_time": "2020-12-07T19:40:50.226056Z",
     "start_time": "2020-12-07T19:40:50.222975Z"
    }
   },
   "outputs": [],
   "source": []
  },
  {
   "cell_type": "code",
   "execution_count": 45,
   "metadata": {
    "ExecuteTime": {
     "end_time": "2020-12-11T22:23:27.416031Z",
     "start_time": "2020-12-11T22:23:27.413139Z"
    }
   },
   "outputs": [],
   "source": []
  },
  {
   "cell_type": "code",
   "execution_count": 47,
   "metadata": {
    "ExecuteTime": {
     "end_time": "2020-12-11T22:23:41.112552Z",
     "start_time": "2020-12-11T22:23:41.109071Z"
    }
   },
   "outputs": [
    {
     "data": {
      "text/plain": [
       "str"
      ]
     },
     "execution_count": 47,
     "metadata": {},
     "output_type": "execute_result"
    }
   ],
   "source": []
  },
  {
   "cell_type": "code",
   "execution_count": null,
   "metadata": {
    "ExecuteTime": {
     "end_time": "2020-12-07T19:51:36.305496Z",
     "start_time": "2020-12-07T19:51:36.301705Z"
    }
   },
   "outputs": [],
   "source": []
  },
  {
   "cell_type": "code",
   "execution_count": null,
   "metadata": {
    "ExecuteTime": {
     "end_time": "2020-12-07T19:52:48.096736Z",
     "start_time": "2020-12-07T19:52:48.093140Z"
    }
   },
   "outputs": [],
   "source": []
  },
  {
   "cell_type": "code",
   "execution_count": null,
   "metadata": {
    "ExecuteTime": {
     "end_time": "2020-12-07T19:55:36.367044Z",
     "start_time": "2020-12-07T19:55:36.363199Z"
    }
   },
   "outputs": [],
   "source": []
  },
  {
   "cell_type": "code",
   "execution_count": null,
   "metadata": {
    "ExecuteTime": {
     "end_time": "2020-12-07T20:59:14.830905Z",
     "start_time": "2020-12-07T20:59:14.020050Z"
    }
   },
   "outputs": [],
   "source": []
  },
  {
   "cell_type": "code",
   "execution_count": null,
   "metadata": {
    "ExecuteTime": {
     "end_time": "2020-12-07T21:06:27.070431Z",
     "start_time": "2020-12-07T21:06:26.990696Z"
    }
   },
   "outputs": [],
   "source": []
  },
  {
   "cell_type": "code",
   "execution_count": null,
   "metadata": {
    "ExecuteTime": {
     "end_time": "2020-12-07T21:06:55.454934Z",
     "start_time": "2020-12-07T21:06:55.444655Z"
    }
   },
   "outputs": [],
   "source": []
  },
  {
   "cell_type": "code",
   "execution_count": null,
   "metadata": {},
   "outputs": [],
   "source": []
  }
 ],
 "metadata": {
  "kernelspec": {
   "display_name": "Python 3",
   "language": "python",
   "name": "python3"
  },
  "language_info": {
   "codemirror_mode": {
    "name": "ipython",
    "version": 3
   },
   "file_extension": ".py",
   "mimetype": "text/x-python",
   "name": "python",
   "nbconvert_exporter": "python",
   "pygments_lexer": "ipython3",
   "version": "3.7.4"
  }
 },
 "nbformat": 4,
 "nbformat_minor": 4
}
